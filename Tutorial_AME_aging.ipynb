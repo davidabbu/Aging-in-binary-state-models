{
 "cells": [
  {
   "cell_type": "markdown",
   "id": "19a089ad",
   "metadata": {},
   "source": [
    "# Tutorial for the Numerical integration of the Approximate Master Equation with aging"
   ]
  },
  {
   "cell_type": "markdown",
   "id": "ec5faef6",
   "metadata": {},
   "source": [
    "This tutorial illustrates how to solve numerically the approximate master equation for any binary state model running in any network with degree distribution $p(k)$, using the code provided here. The tutorial assumes general knowledge of Julia programming. We start by importing all necessary Julia libraries:"
   ]
  },
  {
   "cell_type": "code",
   "execution_count": 36,
   "id": "46578df3",
   "metadata": {},
   "outputs": [],
   "source": [
    "using DifferentialEquations\n",
    "using LinearAlgebra\n",
    "\n",
    "# Plotting libaries\n",
    "using PyCall\n",
    "using PyPlot\n",
    "\n",
    "# Library with useful functions\n",
    "include(\"./AME_functions.jl\");"
   ]
  },
  {
   "cell_type": "markdown",
   "id": "54f7f0fe",
   "metadata": {},
   "source": [
    "### Network and initial state"
   ]
  },
  {
   "cell_type": "markdown",
   "id": "4451a623",
   "metadata": {},
   "source": [
    "We assume a network topology generated with the configuration model given a degree distribution $p(k)$. This distribution is set in function _dist(z,k)_ being _z_ the average degree. For example, for a Poisson random graph:"
   ]
  },
  {
   "cell_type": "code",
   "execution_count": 14,
   "id": "4403ce5d",
   "metadata": {},
   "outputs": [],
   "source": [
    "function dist(z,k)\n",
    "    return exp(-z)*((big(z)^k)/factorial(big(k)))\n",
    "end;"
   ]
  },
  {
   "cell_type": "markdown",
   "id": "d47d7a09",
   "metadata": {},
   "source": [
    "Since we need our differential equations to be finite, we set a range [$k_{\\rm min}$,$k_{\\rm max}$] and [$\\tau_{\\rm min}$,$\\tau_{\\rm max}$] of degrees and ages to consider in our numerical integration."
   ]
  },
  {
   "cell_type": "code",
   "execution_count": 40,
   "id": "b51dc575",
   "metadata": {},
   "outputs": [],
   "source": [
    "# Network description\n",
    "z = 8\n",
    "k_max = 20\n",
    "k_min = 0\n",
    "\n",
    "# Ages considered\n",
    "tau_max = 500\n",
    "tau_min = 0;"
   ]
  },
  {
   "cell_type": "markdown",
   "id": "1d675a12",
   "metadata": {},
   "source": [
    "The initial state is set by the initial seed $\\rho_0$ _(rho_0)_ of adopters agents, distributed randomly in the network with age $j = 0$.\n",
    "\n",
    "The vector _u0[1]_ incorporates the states $s_{k,m,j}(0)$ while _u0[2]_ incorporates $i_{k,m,j}(0)$."
   ]
  },
  {
   "cell_type": "code",
   "execution_count": 41,
   "id": "f4f250f4",
   "metadata": {},
   "outputs": [],
   "source": [
    "rho_0 =  10^-6\n",
    "\n",
    "u0 = zeros(2,k_max+1,k_max+1,tau_max+1)\n",
    "\n",
    "for k in k_min:k_max\n",
    "    for m in 0:k\n",
    "        # Susceptible\n",
    "        u0[1,k+1,m+1,1] = (1 - rho_0)*binomial_dist(k,m,rho_0)\n",
    "        # Infected\n",
    "        u0[2,k+1,m+1,1] = (rho_0)*binomial_dist(k,m,rho_0)\n",
    "    end\n",
    "end"
   ]
  },
  {
   "cell_type": "markdown",
   "id": "e67463c6",
   "metadata": {},
   "source": [
    "### Definition of the binary-state model and the aging mechanism"
   ]
  },
  {
   "cell_type": "markdown",
   "id": "f6f10c7f",
   "metadata": {},
   "source": [
    "First, we define an activation probability that accounts for the aging mechanism $p_A (j)$. We set $p_A (j) \\; \\alpha \\; j^{-1}$ as we considered in the article."
   ]
  },
  {
   "cell_type": "code",
   "execution_count": 42,
   "id": "d9d71589",
   "metadata": {},
   "outputs": [],
   "source": [
    "function pA(j)\n",
    "    return 1/(j+2)\n",
    "end;"
   ]
  },
  {
   "cell_type": "markdown",
   "id": "1d6321cc",
   "metadata": {},
   "source": [
    "With $p_A(j)$ we define the transition probabilities according to the model. As an example, we set the transition probabilities for the Threshold model with exogenous aging. In this case, the only transitions available are:\n",
    "\n",
    "- **Infection probability:** $F(m/k - T) = p_A(j) \\cdot \\theta(m/k - T)$.\n",
    "\n",
    "- **Reset probability:** $F_R (m/k - T) = p_A(j) \\cdot (1 - \\theta(m/k - T))$.\n",
    "\n",
    "- **Aging probability:** $F_A (m/k - T) = 1 - p_A(j)$."
   ]
  },
  {
   "cell_type": "code",
   "execution_count": 43,
   "id": "4d220dbe",
   "metadata": {},
   "outputs": [],
   "source": [
    "# Threshold model with exogenous aging\n",
    "\n",
    "# Model parameters: \n",
    "T = 0.3\n",
    "\n",
    "# Infection/recovery probabilities\n",
    "F = zeros(k_max+1,k_max+1,tau_max+1)\n",
    "R = zeros(k_max+1,k_max+1,tau_max+1)\n",
    "\n",
    "# Reset probabilities\n",
    "FR = zeros(k_max+1,k_max+1,tau_max+1)\n",
    "RR = zeros(k_max+1,k_max+1,tau_max+1)\n",
    "\n",
    "# Aging probabilities\n",
    "FA = zeros(k_max+1,k_max+1,tau_max+1)\n",
    "RA = zeros(k_max+1,k_max+1,tau_max+1)\n",
    "\n",
    "\n",
    "for k in k_min:k_max\n",
    "    for m in 0:k\n",
    "        if m/(k+10^(-10)) >= T\n",
    "            for j in tau_min:tau_max\n",
    "                F[k+1,m+1,j+1] = pA(j)\n",
    "            end\n",
    "        end\n",
    "        if m/(k+10^(-10)) < T\n",
    "            for j in tau_min:tau_max\n",
    "                FR[k+1,m+1,j+1] = pA(j)\n",
    "            end\n",
    "        end\n",
    "        for j in tau_min:tau_max\n",
    "            FA[k+1,m+1,j+1] = 1 - pA(j)\n",
    "        end\n",
    "    end\n",
    "end\n",
    "\n",
    "PARAMS = (F,R,FR,RR,FA,RA);"
   ]
  },
  {
   "cell_type": "markdown",
   "id": "0a4c73ae",
   "metadata": {},
   "source": [
    "### Numerical integration of the AME"
   ]
  },
  {
   "cell_type": "markdown",
   "id": "6171a161",
   "metadata": {},
   "source": [
    "We integrate numerically using the tools of the library **_DifferentialEquations.jl_**. We define the time interval to integrate numerically _tint_, the integration time step _dt_, the saving time step _ds_ and the integration solver."
   ]
  },
  {
   "cell_type": "code",
   "execution_count": null,
   "id": "cf3a1e9f",
   "metadata": {},
   "outputs": [],
   "source": [
    "tint = (0.0, 200.0)\n",
    "dt = 0.01\n",
    "ds = 0.1\n",
    "\n",
    "# The integration method is a Runge-Kutta 4 method\n",
    "method = RK4()\n",
    "\n",
    "sol = solve_AME(tint,dt,ds,method,PARAMS);"
   ]
  },
  {
   "cell_type": "markdown",
   "id": "1f9cd740",
   "metadata": {},
   "source": [
    "### Plotting the solution of the AME"
   ]
  },
  {
   "cell_type": "markdown",
   "id": "e84f3d27",
   "metadata": {},
   "source": [
    "We are interested on how the fraction of susceptible $S$ and infected $I$ nodes evolve through time according to the model chosen. These magnitudes can be calculated from the $s_{k,m,j} (t)$ and $i_{k,m,j} (t)$ solutions."
   ]
  },
  {
   "cell_type": "code",
   "execution_count": null,
   "id": "9433ab8d",
   "metadata": {},
   "outputs": [],
   "source": [
    "I = infected_from(sol)\n",
    "S = susceptible_from(sol)\n",
    "\n",
    "plt.plot(sol.t,I)\n",
    "plt.plot(sol.t,S)\n",
    "plt.plot(sol.t,I .+ S)"
   ]
  },
  {
   "cell_type": "markdown",
   "id": "d91e83b2",
   "metadata": {},
   "source": [
    "Another interesting magnitude that we can obtain from the numerical solution is the average interface density (fraction of S-I links in the network)."
   ]
  },
  {
   "cell_type": "code",
   "execution_count": null,
   "id": "88193d29",
   "metadata": {},
   "outputs": [],
   "source": [
    "int = interface_from(sol)\n",
    "\n",
    "plt.plot(sol.t,int)"
   ]
  },
  {
   "cell_type": "markdown",
   "id": "683ede66",
   "metadata": {},
   "source": [
    "### Advices and further refinements"
   ]
  },
  {
   "cell_type": "markdown",
   "id": "8f9d0d5a",
   "metadata": {},
   "source": [
    "- To avoid problems, one shoud always choose a $\\tau_{\\rm max}$ higher than the maximum time of evolution $t_{\\rm max}$ to consider all possible states that agents can exhibit.\n",
    "\n",
    "- The library **_DifferentialEquations.jl_** includes a large number of numerical solvers of differential equations. We used Runge-Kutta solvers but faster solvers may be found for different specific models."
   ]
  }
 ],
 "metadata": {
  "kernelspec": {
   "display_name": "Julia 1.6.2",
   "language": "julia",
   "name": "julia-1.6"
  },
  "language_info": {
   "file_extension": ".jl",
   "mimetype": "application/julia",
   "name": "julia",
   "version": "1.6.2"
  }
 },
 "nbformat": 4,
 "nbformat_minor": 5
}
